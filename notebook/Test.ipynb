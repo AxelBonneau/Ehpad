{
 "cells": [
  {
   "cell_type": "code",
   "execution_count": 1,
   "id": "1afaa90a-5989-499a-b75c-d98f92c8959c",
   "metadata": {
    "tags": []
   },
   "outputs": [],
   "source": [
    "import json \n",
    "import pandas as pd\n",
    "import numpy as np"
   ]
  },
  {
   "cell_type": "code",
   "execution_count": 2,
   "id": "f27ce309-7fd6-46f8-ae96-129d6bc60323",
   "metadata": {
    "tags": []
   },
   "outputs": [],
   "source": [
    "file_path = \"./../data/base-etablissement.json\"  \n",
    "with open(file_path, \"r\") as f:\n",
    "    data = json.load(f)"
   ]
  },
  {
   "cell_type": "code",
   "execution_count": 4,
   "id": "9b8e982d-e868-4e96-8d65-551f05f8791a",
   "metadata": {
    "tags": []
   },
   "outputs": [
    {
     "data": {
      "text/plain": [
       "{'_id': 17,\n",
       " 'title': 'Accueil de jour Aux Lucioles',\n",
       " 'noFinesset': '010003978',\n",
       " 'capacity': 18,\n",
       " 'legal_status': 'Privé non lucratif',\n",
       " 'isViaTrajectoire': nan,\n",
       " 'updatedAt': '2020-10-04T18:33:19.000Z',\n",
       " 'types': {'IsEHPAD': False,\n",
       "  'IsEHPA': False,\n",
       "  'IsESLD': False,\n",
       "  'IsRA': False,\n",
       "  'IsAJA': True,\n",
       "  'IsHCOMPL': False,\n",
       "  'IsHTEMPO': False,\n",
       "  'IsACC_JOUR': True,\n",
       "  'IsACC_NUIT': False,\n",
       "  'IsHAB_AIDE_SOC': True,\n",
       "  'IsCONV_APL': False,\n",
       "  'IsALZH': True,\n",
       "  'IsUHR': False,\n",
       "  'IsPASA': False,\n",
       "  'IsPUV': False,\n",
       "  'IsF1': False,\n",
       "  'IsF1Bis': False,\n",
       "  'IsF2': False},\n",
       " 'pricing': {'cerfa': nan, 'prixMin': nan},\n",
       " 'coordinates': {'street': 'Rue du Collège',\n",
       "  'postcode': 1600,\n",
       "  'deptcode': '01',\n",
       "  'deptname': 'AIN',\n",
       "  'city': 'REYRIEUX',\n",
       "  'phone': '04 74 00 85 01',\n",
       "  'emailContact': 'auxlucioles@orange.fr',\n",
       "  'gestionnaire': 'Association de Gestion Accueil de Jour',\n",
       "  'website': nan,\n",
       "  'latitude': 45.930657,\n",
       "  'longitude': 4.814821},\n",
       " 'ehpadPrice': {'_id': nan,\n",
       "  'updatedAt': nan,\n",
       "  'prixHebPermCs': nan,\n",
       "  'prixHebPermCd': nan,\n",
       "  'tarifGir12': nan,\n",
       "  'tarifGir34': nan,\n",
       "  'tarifGir56': nan,\n",
       "  'autrePrestation': nan,\n",
       "  'autreTarifPrest': nan},\n",
       " 'raPrice': {'_id': nan,\n",
       "  'updatedAt': nan,\n",
       "  'PrixF1': nan,\n",
       "  'PrixF1ASH': nan,\n",
       "  'PrixF1Bis': nan,\n",
       "  'PrixF1BisASH': nan,\n",
       "  'PrixF2': nan,\n",
       "  'autreTarifPrest': nan}}"
      ]
     },
     "execution_count": 4,
     "metadata": {},
     "output_type": "execute_result"
    }
   ],
   "source": [
    "data[0]"
   ]
  },
  {
   "cell_type": "code",
   "execution_count": 5,
   "id": "163bec64-f88e-4ee9-8ba8-ef4e7be8cb65",
   "metadata": {
    "tags": []
   },
   "outputs": [],
   "source": [
    "df = pd.json_normalize(data)"
   ]
  },
  {
   "cell_type": "code",
   "execution_count": 6,
   "id": "68816640-4391-4d81-84f1-b3f05ab54cd2",
   "metadata": {
    "tags": []
   },
   "outputs": [
    {
     "data": {
      "text/html": [
       "<div>\n",
       "<style scoped>\n",
       "    .dataframe tbody tr th:only-of-type {\n",
       "        vertical-align: middle;\n",
       "    }\n",
       "\n",
       "    .dataframe tbody tr th {\n",
       "        vertical-align: top;\n",
       "    }\n",
       "\n",
       "    .dataframe thead th {\n",
       "        text-align: right;\n",
       "    }\n",
       "</style>\n",
       "<table border=\"1\" class=\"dataframe\">\n",
       "  <thead>\n",
       "    <tr style=\"text-align: right;\">\n",
       "      <th></th>\n",
       "      <th>_id</th>\n",
       "      <th>title</th>\n",
       "      <th>noFinesset</th>\n",
       "      <th>capacity</th>\n",
       "      <th>legal_status</th>\n",
       "      <th>isViaTrajectoire</th>\n",
       "      <th>updatedAt</th>\n",
       "      <th>types.IsEHPAD</th>\n",
       "      <th>types.IsEHPA</th>\n",
       "      <th>types.IsESLD</th>\n",
       "      <th>...</th>\n",
       "      <th>ehpadPrice.autrePrestation</th>\n",
       "      <th>ehpadPrice.autreTarifPrest</th>\n",
       "      <th>raPrice._id</th>\n",
       "      <th>raPrice.updatedAt</th>\n",
       "      <th>raPrice.PrixF1</th>\n",
       "      <th>raPrice.PrixF1ASH</th>\n",
       "      <th>raPrice.PrixF1Bis</th>\n",
       "      <th>raPrice.PrixF1BisASH</th>\n",
       "      <th>raPrice.PrixF2</th>\n",
       "      <th>raPrice.autreTarifPrest</th>\n",
       "    </tr>\n",
       "  </thead>\n",
       "  <tbody>\n",
       "    <tr>\n",
       "      <th>0</th>\n",
       "      <td>17</td>\n",
       "      <td>Accueil de jour Aux Lucioles</td>\n",
       "      <td>010003978</td>\n",
       "      <td>18</td>\n",
       "      <td>Privé non lucratif</td>\n",
       "      <td>NaN</td>\n",
       "      <td>2020-10-04T18:33:19.000Z</td>\n",
       "      <td>False</td>\n",
       "      <td>False</td>\n",
       "      <td>False</td>\n",
       "      <td>...</td>\n",
       "      <td>NaN</td>\n",
       "      <td>NaN</td>\n",
       "      <td>NaN</td>\n",
       "      <td>NaN</td>\n",
       "      <td>NaN</td>\n",
       "      <td>NaN</td>\n",
       "      <td>NaN</td>\n",
       "      <td>NaN</td>\n",
       "      <td>NaN</td>\n",
       "      <td>NaN</td>\n",
       "    </tr>\n",
       "    <tr>\n",
       "      <th>1</th>\n",
       "      <td>35</td>\n",
       "      <td>Accueil de jour Lou-Ve-Nou</td>\n",
       "      <td>010009066</td>\n",
       "      <td>12</td>\n",
       "      <td>Privé non lucratif</td>\n",
       "      <td>NaN</td>\n",
       "      <td>2020-10-04T18:33:19.000Z</td>\n",
       "      <td>False</td>\n",
       "      <td>False</td>\n",
       "      <td>False</td>\n",
       "      <td>...</td>\n",
       "      <td>NaN</td>\n",
       "      <td>NaN</td>\n",
       "      <td>NaN</td>\n",
       "      <td>NaN</td>\n",
       "      <td>NaN</td>\n",
       "      <td>NaN</td>\n",
       "      <td>NaN</td>\n",
       "      <td>NaN</td>\n",
       "      <td>NaN</td>\n",
       "      <td>NaN</td>\n",
       "    </tr>\n",
       "    <tr>\n",
       "      <th>2</th>\n",
       "      <td>36</td>\n",
       "      <td>Accueil de jour Réseau Mnemosis</td>\n",
       "      <td>010009157</td>\n",
       "      <td>12</td>\n",
       "      <td>Privé non lucratif</td>\n",
       "      <td>NaN</td>\n",
       "      <td>2020-10-04T18:33:19.000Z</td>\n",
       "      <td>False</td>\n",
       "      <td>False</td>\n",
       "      <td>False</td>\n",
       "      <td>...</td>\n",
       "      <td>NaN</td>\n",
       "      <td>NaN</td>\n",
       "      <td>NaN</td>\n",
       "      <td>NaN</td>\n",
       "      <td>NaN</td>\n",
       "      <td>NaN</td>\n",
       "      <td>NaN</td>\n",
       "      <td>NaN</td>\n",
       "      <td>NaN</td>\n",
       "      <td>NaN</td>\n",
       "    </tr>\n",
       "    <tr>\n",
       "      <th>3</th>\n",
       "      <td>24</td>\n",
       "      <td>Accueil de jour autonome l'Entre-Temps</td>\n",
       "      <td>010007078</td>\n",
       "      <td>10</td>\n",
       "      <td>Public</td>\n",
       "      <td>NaN</td>\n",
       "      <td>2020-10-04T18:33:19.000Z</td>\n",
       "      <td>False</td>\n",
       "      <td>False</td>\n",
       "      <td>False</td>\n",
       "      <td>...</td>\n",
       "      <td>NaN</td>\n",
       "      <td>NaN</td>\n",
       "      <td>NaN</td>\n",
       "      <td>NaN</td>\n",
       "      <td>NaN</td>\n",
       "      <td>NaN</td>\n",
       "      <td>NaN</td>\n",
       "      <td>NaN</td>\n",
       "      <td>NaN</td>\n",
       "      <td>NaN</td>\n",
       "    </tr>\n",
       "    <tr>\n",
       "      <th>4</th>\n",
       "      <td>19</td>\n",
       "      <td>Accueil de jour de Belley</td>\n",
       "      <td>010004398</td>\n",
       "      <td>10</td>\n",
       "      <td>Privé non lucratif</td>\n",
       "      <td>NaN</td>\n",
       "      <td>2020-10-04T18:33:19.000Z</td>\n",
       "      <td>False</td>\n",
       "      <td>False</td>\n",
       "      <td>False</td>\n",
       "      <td>...</td>\n",
       "      <td>NaN</td>\n",
       "      <td>NaN</td>\n",
       "      <td>NaN</td>\n",
       "      <td>NaN</td>\n",
       "      <td>NaN</td>\n",
       "      <td>NaN</td>\n",
       "      <td>NaN</td>\n",
       "      <td>NaN</td>\n",
       "      <td>NaN</td>\n",
       "      <td>NaN</td>\n",
       "    </tr>\n",
       "  </tbody>\n",
       "</table>\n",
       "<p>5 rows × 55 columns</p>\n",
       "</div>"
      ],
      "text/plain": [
       "   _id                                   title noFinesset  capacity  \\\n",
       "0   17            Accueil de jour Aux Lucioles  010003978        18   \n",
       "1   35              Accueil de jour Lou-Ve-Nou  010009066        12   \n",
       "2   36         Accueil de jour Réseau Mnemosis  010009157        12   \n",
       "3   24  Accueil de jour autonome l'Entre-Temps  010007078        10   \n",
       "4   19               Accueil de jour de Belley  010004398        10   \n",
       "\n",
       "         legal_status  isViaTrajectoire                 updatedAt  \\\n",
       "0  Privé non lucratif               NaN  2020-10-04T18:33:19.000Z   \n",
       "1  Privé non lucratif               NaN  2020-10-04T18:33:19.000Z   \n",
       "2  Privé non lucratif               NaN  2020-10-04T18:33:19.000Z   \n",
       "3              Public               NaN  2020-10-04T18:33:19.000Z   \n",
       "4  Privé non lucratif               NaN  2020-10-04T18:33:19.000Z   \n",
       "\n",
       "   types.IsEHPAD  types.IsEHPA  types.IsESLD  ...  ehpadPrice.autrePrestation  \\\n",
       "0          False         False         False  ...                         NaN   \n",
       "1          False         False         False  ...                         NaN   \n",
       "2          False         False         False  ...                         NaN   \n",
       "3          False         False         False  ...                         NaN   \n",
       "4          False         False         False  ...                         NaN   \n",
       "\n",
       "   ehpadPrice.autreTarifPrest  raPrice._id  raPrice.updatedAt  raPrice.PrixF1  \\\n",
       "0                         NaN          NaN                NaN             NaN   \n",
       "1                         NaN          NaN                NaN             NaN   \n",
       "2                         NaN          NaN                NaN             NaN   \n",
       "3                         NaN          NaN                NaN             NaN   \n",
       "4                         NaN          NaN                NaN             NaN   \n",
       "\n",
       "   raPrice.PrixF1ASH  raPrice.PrixF1Bis  raPrice.PrixF1BisASH  raPrice.PrixF2  \\\n",
       "0                NaN                NaN                   NaN             NaN   \n",
       "1                NaN                NaN                   NaN             NaN   \n",
       "2                NaN                NaN                   NaN             NaN   \n",
       "3                NaN                NaN                   NaN             NaN   \n",
       "4                NaN                NaN                   NaN             NaN   \n",
       "\n",
       "   raPrice.autreTarifPrest  \n",
       "0                      NaN  \n",
       "1                      NaN  \n",
       "2                      NaN  \n",
       "3                      NaN  \n",
       "4                      NaN  \n",
       "\n",
       "[5 rows x 55 columns]"
      ]
     },
     "execution_count": 6,
     "metadata": {},
     "output_type": "execute_result"
    }
   ],
   "source": [
    "df.head(5)"
   ]
  },
  {
   "cell_type": "code",
   "execution_count": 7,
   "id": "22a62352-7e24-4173-aa21-384ab23e35ff",
   "metadata": {
    "tags": []
   },
   "outputs": [
    {
     "data": {
      "text/plain": [
       "Index(['_id', 'title', 'noFinesset', 'capacity', 'legal_status',\n",
       "       'isViaTrajectoire', 'updatedAt', 'types.IsEHPAD', 'types.IsEHPA',\n",
       "       'types.IsESLD', 'types.IsRA', 'types.IsAJA', 'types.IsHCOMPL',\n",
       "       'types.IsHTEMPO', 'types.IsACC_JOUR', 'types.IsACC_NUIT',\n",
       "       'types.IsHAB_AIDE_SOC', 'types.IsCONV_APL', 'types.IsALZH',\n",
       "       'types.IsUHR', 'types.IsPASA', 'types.IsPUV', 'types.IsF1',\n",
       "       'types.IsF1Bis', 'types.IsF2', 'pricing.cerfa', 'pricing.prixMin',\n",
       "       'coordinates.street', 'coordinates.postcode', 'coordinates.deptcode',\n",
       "       'coordinates.deptname', 'coordinates.city', 'coordinates.phone',\n",
       "       'coordinates.emailContact', 'coordinates.gestionnaire',\n",
       "       'coordinates.website', 'coordinates.latitude', 'coordinates.longitude',\n",
       "       'ehpadPrice._id', 'ehpadPrice.updatedAt', 'ehpadPrice.prixHebPermCs',\n",
       "       'ehpadPrice.prixHebPermCd', 'ehpadPrice.tarifGir12',\n",
       "       'ehpadPrice.tarifGir34', 'ehpadPrice.tarifGir56',\n",
       "       'ehpadPrice.autrePrestation', 'ehpadPrice.autreTarifPrest',\n",
       "       'raPrice._id', 'raPrice.updatedAt', 'raPrice.PrixF1',\n",
       "       'raPrice.PrixF1ASH', 'raPrice.PrixF1Bis', 'raPrice.PrixF1BisASH',\n",
       "       'raPrice.PrixF2', 'raPrice.autreTarifPrest'],\n",
       "      dtype='object')"
      ]
     },
     "execution_count": 13,
     "metadata": {},
     "output_type": "execute_result"
    }
   ],
   "source": [
    "df.info()"
   ]
  },
  {
   "cell_type": "code",
   "execution_count": 15,
   "id": "572d339b-289f-4aff-a419-17bb6f4b6e72",
   "metadata": {
    "tags": []
   },
   "outputs": [
    {
     "name": "stdout",
     "output_type": "stream",
     "text": [
      "Export terminé !\n"
     ]
    }
   ],
   "source": [
    "# Exporter les noms des colonnes dans un fichier CSV\n",
    "columns = pd.DataFrame(df.columns, columns=[\"Column Names\"])\n",
    "columns.to_csv(\"./../data/noms_colonnes.csv\", index=False)\n",
    "\n",
    "print(\"Export terminé !\")"
   ]
  },
  {
   "cell_type": "code",
   "execution_count": null,
   "id": "8fcdab3a-d146-47fb-ad5e-4ea8fdd19976",
   "metadata": {},
   "outputs": [],
   "source": []
  }
 ],
 "metadata": {
  "kernelspec": {
   "display_name": "Python 3 (ipykernel)",
   "language": "python",
   "name": "python3"
  },
  "language_info": {
   "codemirror_mode": {
    "name": "ipython",
    "version": 3
   },
   "file_extension": ".py",
   "mimetype": "text/x-python",
   "name": "python",
   "nbconvert_exporter": "python",
   "pygments_lexer": "ipython3",
   "version": "3.10.7"
  }
 },
 "nbformat": 4,
 "nbformat_minor": 5
}
