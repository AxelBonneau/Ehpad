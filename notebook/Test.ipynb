{
 "cells": [
  {
   "cell_type": "code",
   "execution_count": 3,
   "id": "1afaa90a-5989-499a-b75c-d98f92c8959c",
   "metadata": {
    "tags": []
   },
   "outputs": [],
   "source": [
    "import re\n",
    "import pandas as pd"
   ]
  },
  {
   "cell_type": "code",
   "execution_count": 4,
   "id": "a423cf4c",
   "metadata": {},
   "outputs": [],
   "source": [
    "# Fonction de validation\n",
    "def validate_input(value, widget_type, mandatory):\n",
    "    messages = []\n",
    "    valid = True\n",
    "    \n",
    "    if mandatory and (value == \"\" or pd.isnull(value)):\n",
    "        messages.append(\"Ce champ est obligatoire\")\n",
    "        valid = False\n",
    "    \n",
    "    if widget_type == 'Structure telephonique' and value:\n",
    "        if not re.match(r'^\\+?[0-9 .-]{8,}$', str(value)):\n",
    "            messages.append(\"Format téléphone invalide (+XX X XX XX XX)\")\n",
    "            valid = False\n",
    "            \n",
    "    if widget_type == 'Structure mail' and value:\n",
    "        if not re.match(r'^[\\w.-]+@[\\w.-]+\\.\\w+$', str(value)):\n",
    "            messages.append(\"Format email invalide (exemple@domaine.com)\")\n",
    "            valid = False\n",
    "            \n",
    "    if 'Date' in widget_type and value:\n",
    "        try:\n",
    "            pd.to_datetime(value)\n",
    "        except:\n",
    "            messages.append(\"Format date invalide (AAAA-MM-JJ)\")\n",
    "            valid = False\n",
    "            \n",
    "    if widget_type == 'Nombre' and value:\n",
    "        if not str(value).replace('.', '').isdigit():\n",
    "            messages.append(\"Doit être un nombre valide\")\n",
    "            valid = False\n",
    "            \n",
    "    return valid, \", \".join(messages)"
   ]
  },
  {
   "cell_type": "code",
   "execution_count": 22,
   "id": "54ddf82c",
   "metadata": {},
   "outputs": [
    {
     "data": {
      "text/plain": [
       "(True, '')"
      ]
     },
     "execution_count": 22,
     "metadata": {},
     "output_type": "execute_result"
    }
   ],
   "source": [
    "validate_input(\"test.test101010@gmail.com\", \"Structure mail\", False)"
   ]
  },
  {
   "cell_type": "code",
   "execution_count": null,
   "id": "3be3e2cf",
   "metadata": {},
   "outputs": [],
   "source": []
  }
 ],
 "metadata": {
  "kernelspec": {
   "display_name": "Python 3",
   "language": "python",
   "name": "python3"
  },
  "language_info": {
   "codemirror_mode": {
    "name": "ipython",
    "version": 3
   },
   "file_extension": ".py",
   "mimetype": "text/x-python",
   "name": "python",
   "nbconvert_exporter": "python",
   "pygments_lexer": "ipython3",
   "version": "3.10.7"
  }
 },
 "nbformat": 4,
 "nbformat_minor": 5
}
